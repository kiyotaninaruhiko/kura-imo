{
 "cells": [
  {
   "cell_type": "markdown",
   "id": "23dbc5fd-691a-4b22-a96d-1d6ba91d54eb",
   "metadata": {},
   "source": [
    "# pythonについて\n",
    "- 文法が簡単で学びやすく、初学者でも扱いやすい  \n",
    "- 豊富なライブラリで、データ解析・機械学習・Web開発・可視化など幅広く活用可能  \n",
    "- プラットフォームを問わず動作し、研究開発や業務効率化に最適  \n",
    "- 大規模なコミュニティがあり、情報やサポートが充実  \n",
    "- 少ないコードでプロトタイピングや自動化が可能で、応用範囲が非常に広い\n",
    "\n",
    "上記のような理由から、近年ではpythonを使う人が非常に多くなっています。そこで本講座では、数あるプログラム言語の中からpythonにフォーカスして勉強を進めていきます。\n",
    "<br>初めにpythonの凄さを皆さんに実感していただこうと思います。コードの内容は理解できなくて大丈夫です。実際にコードが動くところを体感してみてください。"
   ]
  },
  {
   "cell_type": "markdown",
   "id": "a2f7803c-e3f4-4800-980e-5da54b676fa5",
   "metadata": {},
   "source": [
    "## 例１：化学構造の描写\n",
    "pythonを使えば化学構造の描写が可能です。"
   ]
  },
  {
   "cell_type": "code",
   "execution_count": null,
   "id": "530037de-fc4b-4557-8808-ea66ec14ec54",
   "metadata": {},
   "outputs": [],
   "source": [
    "from rdkit import Chem\n",
    "from rdkit.Chem import Draw\n",
    "from rdkit.Chem import AllChem\n",
    "import py3Dmol"
   ]
  },
  {
   "cell_type": "code",
   "execution_count": null,
   "id": "84bbabfc-034a-4462-a13a-6b496bd9fefe",
   "metadata": {},
   "outputs": [],
   "source": [
    "# 水の SMILES\n",
    "smiles = \"O\"\n",
    "\n",
    "# SMILESから分子を生成（水素を付加）\n",
    "mol = Chem.AddHs(Chem.MolFromSmiles(smiles))\n",
    "\n",
    "# 3D構造を生成して最適化\n",
    "AllChem.EmbedMolecule(mol)\n",
    "AllChem.UFFOptimizeMolecule(mol)\n",
    "\n",
    "# py3Dmolで3D表示\n",
    "view_mol = py3Dmol.view(width=400, height=400)\n",
    "view_mol.addModel(Chem.MolToMolBlock(mol), 'mol')  # MolBlock形式で追加\n",
    "view_mol.setStyle({'sphere': {}})  # 球で表示\n",
    "view_mol.zoomTo()\n",
    "view_mol.show()"
   ]
  },
  {
   "cell_type": "code",
   "execution_count": null,
   "id": "c3cd44b1-dfbf-430c-b620-c66135b54533",
   "metadata": {},
   "outputs": [],
   "source": [
    "# ベンゼンの SMILES\n",
    "smiles = \"c1ccccc1\"\n",
    "\n",
    "# SMILESから分子を生成（水素を付加）\n",
    "mol = Chem.AddHs(Chem.MolFromSmiles(smiles))\n",
    "\n",
    "# 3D構造を生成して最適化\n",
    "AllChem.EmbedMolecule(mol)\n",
    "AllChem.UFFOptimizeMolecule(mol)\n",
    "\n",
    "# py3Dmolで3D表示\n",
    "view_mol = py3Dmol.view(width=400, height=400)\n",
    "view_mol.addModel(Chem.MolToMolBlock(mol), 'mol')  # MolBlock形式で追加\n",
    "view_mol.setStyle({'stick': {}})  # スティック表示\n",
    "view_mol.zoomTo()\n",
    "view_mol.show()"
   ]
  },
  {
   "cell_type": "markdown",
   "id": "cb444282-b18a-4c96-8d64-31065696474a",
   "metadata": {},
   "source": [
    "## 例２：機械学習\n",
    "pythonを使えば、以下のように機械学習を簡単に実行できます。アヤメの花のデータを元に実演していきます。"
   ]
  },
  {
   "cell_type": "code",
   "execution_count": null,
   "id": "ed531376-ed15-4f47-a81a-47cf902bdbed",
   "metadata": {},
   "outputs": [],
   "source": [
    "import seaborn as sns\n",
    "import matplotlib.pyplot as plt\n",
    "from sklearn.model_selection import train_test_split\n",
    "from sklearn.preprocessing import StandardScaler\n",
    "from sklearn.linear_model import LogisticRegression\n",
    "from sklearn.metrics import classification_report, confusion_matrix, accuracy_score\n",
    "from sklearn.datasets import load_iris\n",
    "import pandas as pd\n",
    "import warnings\n",
    "warnings.filterwarnings(\"ignore\", category=FutureWarning)"
   ]
  },
  {
   "cell_type": "code",
   "execution_count": null,
   "id": "c0073300-93ac-4b7c-b77a-23ca4cabc2ea",
   "metadata": {},
   "outputs": [],
   "source": [
    "# データ読み込み\n",
    "iris = load_iris()\n",
    "X = iris.data\n",
    "y = iris.target\n",
    "feature_names = iris.feature_names\n",
    "target_names = iris.target_names\n",
    "\n",
    "# データをDataFrameに変換（可視化しやすくするため）\n",
    "df = pd.DataFrame(X, columns=feature_names)\n",
    "df['species'] = [target_names[i] for i in y]\n",
    "print(df.shape)\n",
    "df.head(5)"
   ]
  },
  {
   "cell_type": "markdown",
   "id": "3d30d355-301e-4c09-83fb-c42a0797999a",
   "metadata": {},
   "source": [
    "アヤメの花には「セットサ」「バージカラー」「バージニカ」という3つの種類があります。それぞれの花は、がく片の長さ・幅や花びらの長さ・幅といった特徴を持っています。\n",
    "<br>今回のデータには、150本のアヤメの花について、これらの特徴と種類が記録されています。これを使って、「どの花がどの種類か」を自動で判別するコンピューターのモデルを作ります。\n",
    "<br>初めに、pythonを使ってデータの中身を詳しく見ていきます。pythonを使えば、非常に短いコードでたくさんのグラフを描画することが可能です。"
   ]
  },
  {
   "cell_type": "code",
   "execution_count": null,
   "id": "a5f0c4ee-7921-46d6-802e-217425ff4e8b",
   "metadata": {},
   "outputs": [],
   "source": [
    "# データ可視化\n",
    "sns.pairplot(df, hue='species', diag_kind='hist')\n",
    "plt.show()"
   ]
  },
  {
   "cell_type": "markdown",
   "id": "b297e473-8a29-4766-8053-f6baeaf07f78",
   "metadata": {},
   "source": [
    "以下のコードでロジスティック回帰という手法を用いた機械学習による分類モデルの作成を行います。\n",
    "これだけのコードで機械学習を使えるのがpythonの魅力です！"
   ]
  },
  {
   "cell_type": "code",
   "execution_count": null,
   "id": "8b22e7c9-4818-497f-a826-1f4898012ef1",
   "metadata": {},
   "outputs": [],
   "source": [
    "# 訓練データとテストデータに分割\n",
    "X_train, X_test, y_train, y_test = train_test_split(\n",
    "    X, y, test_size=0.2, random_state=42, stratify=y\n",
    ")\n",
    "\n",
    "# 特徴量の標準化\n",
    "scaler = StandardScaler()\n",
    "X_train_scaled = scaler.fit_transform(X_train)\n",
    "X_test_scaled = scaler.transform(X_test)\n",
    "\n",
    "# ロジスティック回帰で分類\n",
    "model = LogisticRegression()\n",
    "model.fit(X_train_scaled, y_train)\n",
    "\n",
    "# 予測\n",
    "y_pred = model.predict(X_test_scaled)"
   ]
  },
  {
   "cell_type": "code",
   "execution_count": null,
   "id": "bc160d36-7ba1-4a80-8bf9-510b45387ea2",
   "metadata": {},
   "outputs": [],
   "source": [
    "# 正答率を計算\n",
    "accuracy = accuracy_score(y_test, y_pred)\n",
    "print(f'正答率: {accuracy:.2f}')  # 小数第2位まで表示"
   ]
  },
  {
   "cell_type": "markdown",
   "id": "21f3130d-3e68-4c12-8d40-96e86565bd8b",
   "metadata": {},
   "source": [
    "今回のモデルでは正答率93%でした！"
   ]
  },
  {
   "cell_type": "code",
   "execution_count": null,
   "id": "dce955bf-3a2a-4678-bc83-b5ff51df07f5",
   "metadata": {},
   "outputs": [],
   "source": [
    "# ヒートマップ表示\n",
    "cm = confusion_matrix(y_test, y_pred)\n",
    "print('混同行列')\n",
    "print(cm)\n",
    "\n",
    "plt.figure(figsize=(6, 5))\n",
    "ax = sns.heatmap(\n",
    "    cm, \n",
    "    annot=True,      # 数字を表示\n",
    "    fmt='d',         # 整数表示\n",
    "    cmap='Blues', \n",
    "    xticklabels=target_names,  # 予測ラベル\n",
    "    yticklabels=target_names   # 正解ラベル\n",
    ")\n",
    "\n",
    "# タイトル・軸ラベルを設定\n",
    "ax.set_title('Confusion Matrix (Iris Dataset)')\n",
    "ax.set_xlabel('Predicted Label')\n",
    "ax.set_ylabel('True Label')\n",
    "\n",
    "plt.show()"
   ]
  },
  {
   "cell_type": "code",
   "execution_count": null,
   "id": "8cea589b-a083-4b2b-8af9-95562241402e",
   "metadata": {},
   "outputs": [],
   "source": []
  },
  {
   "cell_type": "markdown",
   "id": "2fb54081-287d-4a41-bec7-e39ce61dbf63",
   "metadata": {},
   "source": [
    "以上のように、pythonを使えば簡単に機械学習を実行可能です。使いこなせれば、今回使用するような温度制御のプログラムも作成できます。\n",
    "<br>上記は難しいかったと思いますが、pythonの有用性を十分なほど示せたと思います。これよりpythonの基礎からお勉強を始めていきます。"
   ]
  },
  {
   "cell_type": "markdown",
   "id": "267f840b-5a9f-4b84-bc84-a15746f4755a",
   "metadata": {},
   "source": [
    "# 1.1 変数\n",
    "変数とは、文字や数値などのデータを入れておける箱です。プログラム内で何らかのデータを使いたい時に、そのデータに名前をつけて操作することができます。<br>Pythonでは変数にデータを代入することで変数を作成できます。変数の中身はprint()で表示できます。実行してみましょう。"
   ]
  },
  {
   "cell_type": "code",
   "execution_count": null,
   "id": "60d439c5-22f9-4b4a-994d-7bb879b40d54",
   "metadata": {},
   "outputs": [],
   "source": [
    "# 変数の作成と代入  \n",
    "message = \"こんにちは、Python!\"  \n",
    "number = 100  \n",
    "pi = 3.14  "
   ]
  },
  {
   "cell_type": "code",
   "execution_count": null,
   "id": "cfdab7b0-0263-4fe5-89a0-8421657c0c84",
   "metadata": {},
   "outputs": [],
   "source": [
    "# 変数の中身の確認\n",
    "print(f\"message：{message}\")\n",
    "print(f\"number ：{number}\")\n",
    "print(f\"pi     ：{pi}\")"
   ]
  },
  {
   "cell_type": "markdown",
   "id": "9456bc0e-0371-412c-8e6a-378dde7c8620",
   "metadata": {},
   "source": [
    "上記の例では、文字列\"こんにちは、Python!\"をmessage変数に、整数100をnumber変数に、そして浮動小数点数3.14をpi変数にそれぞれ入れています。\n",
    "\n",
    "「=」はイコールの意味ではなく、左の変数に右の値を入れることを意味します。"
   ]
  },
  {
   "cell_type": "markdown",
   "id": "0e5a0dcd-ca56-47c2-aa7b-279dfc05e32b",
   "metadata": {},
   "source": [
    "<img src='1.1.png'>\n",
    "https://www.datamentor.io/python/variables"
   ]
  },
  {
   "cell_type": "markdown",
   "id": "05d2c66d-8b63-4be4-9665-e7e93876b0bf",
   "metadata": {},
   "source": [
    "## 練習１\n",
    "あなたの名前を変数your_nameに入れ、print()関数で表示してみましょう。"
   ]
  },
  {
   "cell_type": "code",
   "execution_count": null,
   "id": "e3607d9a-8c63-470a-9f1a-b43295014eeb",
   "metadata": {},
   "outputs": [],
   "source": [
    "#レッツトライ！\n",
    "your_name = \"あなたの名前は？\"\n",
    "print(your_name)"
   ]
  },
  {
   "cell_type": "markdown",
   "id": "8b66228e-f358-4879-a0bd-55d56fd1f745",
   "metadata": {},
   "source": [
    "# 1.2 変数とメモリ\n",
    "コンピュータ内部にはにはメモリという部品があり、変数はプログラムが実行される際に、コンピュータのメモリ上に確保される一時的な記憶場所です。<br>変数に格納されるデータ（値）は、メモリの特定の位置に保存されます。"
   ]
  },
  {
   "cell_type": "markdown",
   "id": "9791e489-9bde-43e6-9521-8de90ea36400",
   "metadata": {},
   "source": [
    "<img src='1.2.png' width=\"500\">\n",
    "https://www.indiamart.com/proddetail/computer-ram-16331528297.html"
   ]
  },
  {
   "cell_type": "markdown",
   "id": "d6a821ac-e165-41db-b4ef-e3960269f1c5",
   "metadata": {},
   "source": [
    "# 1.3 Pythonのデータ型\n",
    "コンピュータサイエンスにおいて、データ型（または単に「型」とも）は、データの種類を意味し、それによってどのようなデータを変数の箱に入れられるか、どのような操作ができるかがきまります。<br>Pythonにはいくつかの基本的なデータ型があります。\n",
    "\n",
    "\n",
    "整数型（int）<br>浮動小数点型（float）<br>文字列型（str）<br>ブール型（bool）<br>リスト（list）<br>タプル（tuple）<br>辞書（dict）\n",
    "\n",
    "\n",
    "例えば、整数はint、小数点を含む数はfloat、テキストはstrとして扱われます。"
   ]
  },
  {
   "cell_type": "code",
   "execution_count": null,
   "id": "0d83849f-2bc6-4bab-a394-b665070b1fb3",
   "metadata": {},
   "outputs": [],
   "source": [
    "# 整数型  \n",
    "age = 30  \n",
    "  \n",
    "# 浮動小数点型  \n",
    "weight = 65.5  \n",
    "  \n",
    "# 文字列型  \n",
    "name = \"Alice\"  \n",
    "  \n",
    "# ブール型  \n",
    "is_adult = True  \n",
    "  \n",
    "# リスト  \n",
    "fruits = [\"apple\", \"banana\", \"cherry\"]  \n",
    "  \n",
    "# タプル  \n",
    "coordinates = (10, 20)  \n",
    "  \n",
    "# 辞書  \n",
    "person = {\"name\": \"Bob\", \"age\": 25} "
   ]
  },
  {
   "cell_type": "code",
   "execution_count": null,
   "id": "c12aa77e-fc21-48d6-965f-2af7c0b58c33",
   "metadata": {},
   "outputs": [],
   "source": [
    "print(f\"整数の型(age)　　　　　  ：{type(age).__name__}\")\n",
    "print(f\"小数点を含む数の型(wight)：{type(weight).__name__}\")\n",
    "print(f\"テキストの型(name)　　　 ：{type(name).__name__}\")"
   ]
  },
  {
   "cell_type": "markdown",
   "id": "a01b2d5b-4283-4b9e-9064-e4d53473a7dd",
   "metadata": {},
   "source": [
    "## 練習２\n",
    "練習１で作成したyour_nameの型はどうなっているでしょうか？<br>type()を使って確認してみましょう。"
   ]
  },
  {
   "cell_type": "code",
   "execution_count": null,
   "id": "15a479e3-1fc2-4b89-a087-e133a6d0ce2a",
   "metadata": {},
   "outputs": [],
   "source": [
    "#レッツトライ\n"
   ]
  },
  {
   "cell_type": "markdown",
   "id": "11c085e1-891f-4069-bcb1-6bb69729f8ac",
   "metadata": {},
   "source": [
    "# 1.4 演算\n",
    "Pythonの演算には様々なタイプがあり、それぞれ異なるデータ型と操作を扱います。ここでは、数値演算、文字列操作、リスト操作の例を交えて解説します。  \n",
    "   \n",
    "### __数値演算__\n",
    "数値演算では、整数や浮動小数点数の計算を行います。以下は基本的な数値演算の例です。"
   ]
  },
  {
   "cell_type": "code",
   "execution_count": null,
   "id": "40e691ed-ca67-4b43-be7b-a2c689d90dbd",
   "metadata": {},
   "outputs": [],
   "source": [
    "# 加算  \n",
    "a = 10  \n",
    "b = 5  \n",
    "c = a + b  # cは15  "
   ]
  },
  {
   "cell_type": "code",
   "execution_count": null,
   "id": "aa168de5-e98b-47c7-9db0-0650bcca10a6",
   "metadata": {},
   "outputs": [],
   "source": [
    "print(c)"
   ]
  },
  {
   "cell_type": "code",
   "execution_count": null,
   "id": "9dce135e-1a22-49d0-8055-7d3e03591593",
   "metadata": {},
   "outputs": [],
   "source": [
    "# 減算  \n",
    "d = a - b  # dは5  \n",
    "\n",
    "print(d)"
   ]
  },
  {
   "cell_type": "code",
   "execution_count": null,
   "id": "5e73bbcc-16b1-4533-a7bb-9ae0718c48b3",
   "metadata": {},
   "outputs": [],
   "source": [
    "# 乗算  \n",
    "e = a * b  # eは50 \n",
    "\n",
    "print(e)"
   ]
  },
  {
   "cell_type": "code",
   "execution_count": null,
   "id": "efb6e00d-ea48-4d63-be0d-f1c70d0c3c3a",
   "metadata": {},
   "outputs": [],
   "source": [
    "# 真の除算  \n",
    "f = a / b  # fは2.0（浮動小数点数） \n",
    "\n",
    "print(f)"
   ]
  },
  {
   "cell_type": "code",
   "execution_count": null,
   "id": "68ad6a0a-17a0-4a03-bbe1-91d8148f10b9",
   "metadata": {},
   "outputs": [],
   "source": [
    "# 整数除算  \n",
    "g = a // b  # gは2（整数）  \n",
    "\n",
    "print(g)"
   ]
  },
  {
   "cell_type": "code",
   "execution_count": null,
   "id": "3c4eba2e-e24a-49ab-9cdc-2e6489367b0b",
   "metadata": {},
   "outputs": [],
   "source": [
    "# 剰余（モジュロ）  \n",
    "h = a % b  # hは0（10は5で割り切れる） \n",
    "\n",
    "print(h)"
   ]
  },
  {
   "cell_type": "code",
   "execution_count": null,
   "id": "5fd8868e-d8e2-4609-9a5f-93ae63da2642",
   "metadata": {},
   "outputs": [],
   "source": [
    "# 指数  \n",
    "i = a ** b  # iは100000（10の5乗）  \n",
    "\n",
    "print(i)"
   ]
  },
  {
   "cell_type": "markdown",
   "id": "36a2873b-48c2-4623-b236-c823da2ba5cb",
   "metadata": {},
   "source": [
    "## 練習３\n",
    "上記の数値演算のうち気になるものを試してみましょう！"
   ]
  },
  {
   "cell_type": "code",
   "execution_count": null,
   "id": "75ff7c10-f28b-4df3-aa3a-71eea86a1f8f",
   "metadata": {},
   "outputs": [],
   "source": [
    "#例\n",
    "3+5"
   ]
  },
  {
   "cell_type": "code",
   "execution_count": null,
   "id": "dde20963-224a-42a6-8781-51ad659f2583",
   "metadata": {},
   "outputs": [],
   "source": [
    "#レッツトライ\n"
   ]
  },
  {
   "cell_type": "markdown",
   "id": "354a6406-9157-48d3-a7b3-b2fe4e74a164",
   "metadata": {},
   "source": [
    "### __文字列操作__  \n",
    "文字列操作では、文字列を結合したり、部分文字列を抽出したりします。以下は文字列操作の例です。"
   ]
  },
  {
   "cell_type": "code",
   "execution_count": null,
   "id": "e0e598b2-d06e-4388-92dc-138a33c01466",
   "metadata": {},
   "outputs": [],
   "source": [
    "# 文字列の結合  \n",
    "str1 = \"Hello\"  \n",
    "str2 = \"World\"  \n",
    "combined_str = str1 + \" \" + str2  # \"Hello World\"  \n",
    "\n",
    "print(combined_str)"
   ]
  },
  {
   "cell_type": "code",
   "execution_count": null,
   "id": "10041fd0-d6e8-47fd-a07b-7535333e4587",
   "metadata": {},
   "outputs": [],
   "source": [
    "# 文字列の繰り返し  \n",
    "repeated_str = str1 * 3  # \"HelloHelloHello\"  \n",
    "   \n",
    "print(repeated_str)"
   ]
  },
  {
   "cell_type": "code",
   "execution_count": null,
   "id": "7e9ab26e-e4d2-499e-8802-fc1a3b87b1bc",
   "metadata": {},
   "outputs": [],
   "source": [
    "# 文字列のスライシング  \n",
    "hello_world = \"Hello, World!\"  \n",
    "world = hello_world[7:12]  # \"World\" (7番目から11番目の文字を取得)  \n",
    "   \n",
    "print(world)"
   ]
  },
  {
   "cell_type": "code",
   "execution_count": null,
   "id": "dc5774d1-653f-4cc0-9a90-ca7c629c60e2",
   "metadata": {},
   "outputs": [],
   "source": [
    "# 文字列の長さ  \n",
    "length = len(hello_world)  # 13  \n",
    "   \n",
    "print(length)"
   ]
  },
  {
   "cell_type": "code",
   "execution_count": null,
   "id": "87d11b9d-f371-4db8-b486-e23c9b094ee5",
   "metadata": {},
   "outputs": [],
   "source": [
    "# 文字列の置換  \n",
    "replaced_str = hello_world.replace(\"World\", \"Python\")  # \"Hello, Python!\" \n",
    "\n",
    "print(replaced_str)"
   ]
  },
  {
   "cell_type": "markdown",
   "id": "d3c04adf-ab82-479f-95ab-f3da8c5abf29",
   "metadata": {},
   "source": [
    "## 練習４\n",
    "あなたの苗字と名前を足し合わせて氏名を完成させましょう！"
   ]
  },
  {
   "cell_type": "code",
   "execution_count": null,
   "id": "2520dc17-a8a9-4820-8fdf-31d20830f91a",
   "metadata": {},
   "outputs": [],
   "source": [
    "#レッツトライ\n",
    "familyName = \"苗字\" #苗字を\"\"の間に入れてください。\n",
    "lastName = \"名前\" #名前を\"\"の間に入れてください。\n",
    "\n",
    "your_name = familyName + \" \" + lastName\n",
    "print(your_name)"
   ]
  },
  {
   "cell_type": "markdown",
   "id": "9063c059-8acf-4fb9-afce-dcf1f45a3741",
   "metadata": {},
   "source": [
    "### __リスト操作__\n",
    "リストは変更可能なシーケンスで、異なるタイプの要素を含むことができます。リストに対するいくつかの演算を見てみましょう。"
   ]
  },
  {
   "cell_type": "code",
   "execution_count": null,
   "id": "df43fb44-58ef-476f-8289-1fb446465b56",
   "metadata": {},
   "outputs": [],
   "source": [
    "# リストの作成  \n",
    "numbers = [1, 2, 3, 4, 5]  "
   ]
  },
  {
   "cell_type": "code",
   "execution_count": null,
   "id": "9b9356f8-a6da-4862-923e-361481b0b51c",
   "metadata": {},
   "outputs": [],
   "source": [
    "# リストの要素にアクセス  \n",
    "second_number = numbers[1]  # 2（インデックスは0から始まる）  \n",
    "   \n",
    "print(second_number)"
   ]
  },
  {
   "cell_type": "code",
   "execution_count": null,
   "id": "e15fdc88-1f27-4e0b-a590-8306790df23f",
   "metadata": {},
   "outputs": [],
   "source": [
    "# リストのスライシング  \n",
    "first_three = numbers[:3]  # [1, 2, 3]  \n",
    "   \n",
    "print(first_three)"
   ]
  },
  {
   "cell_type": "code",
   "execution_count": null,
   "id": "8126b0bd-6345-4148-930a-280aca326d95",
   "metadata": {},
   "outputs": [],
   "source": [
    "# リストの要素の追加  \n",
    "numbers.append(6)  # [1, 2, 3, 4, 5, 6]  \n",
    "\n",
    "print(numbers)"
   ]
  },
  {
   "cell_type": "code",
   "execution_count": null,
   "id": "ab507f14-f508-475c-aa71-4142b18daf03",
   "metadata": {},
   "outputs": [],
   "source": [
    "# リストの結合  \n",
    "more_numbers = [7, 8, 9]  \n",
    "combined_list = numbers + more_numbers  # [1, 2, 3, 4, 5, 6, 7, 8, 9]  \n",
    "\n",
    "print(combined_list)"
   ]
  },
  {
   "cell_type": "code",
   "execution_count": null,
   "id": "f8a63b09-4a55-45b5-bbb8-4a54539816f7",
   "metadata": {},
   "outputs": [],
   "source": [
    "# リストの要素をソート  \n",
    "unsorted_list = [3, 1, 4, 1, 5]  \n",
    "unsorted_list.sort()  # [1, 1, 3, 4, 5]\n",
    "\n",
    "print(unsorted_list)"
   ]
  },
  {
   "cell_type": "markdown",
   "id": "3840c3fe-fbbf-4704-8d5d-a09bba167d1b",
   "metadata": {},
   "source": [
    "## 練習５\n",
    "リストには文字を入れることも可能です。あなたの苗字と名前をリストに入れて、名前を取り出して表示してみましょう。"
   ]
  },
  {
   "cell_type": "code",
   "execution_count": null,
   "id": "16d1004d-50a6-4f15-862e-94430ee81538",
   "metadata": {},
   "outputs": [],
   "source": [
    "#レッツトライ\n",
    "name_list = [\"苗字\", \"名前\"]\n",
    "print(name_list)"
   ]
  },
  {
   "cell_type": "code",
   "execution_count": null,
   "id": "fd3fbbe2-026c-4a17-9c17-e683e0369366",
   "metadata": {},
   "outputs": [],
   "source": [
    "#レッツトライ\n",
    "print(name_list[]) #[]の中に名前のインデックス番号を入れてください。"
   ]
  },
  {
   "cell_type": "markdown",
   "id": "ae86eb67-c1ec-4176-9f1e-b0266a9ed620",
   "metadata": {},
   "source": [
    "# 1.5 関数 \n",
    "Pythonの関数は、コードを何度も使える部分に分割するのに役立ちます。関数を使用することで、コードをを整理し、部品化されたものにすることができます。<br>Pythonでは、関数は `def` キーワードを用いて関数を定義します。\n",
    "\n",
    "\n",
    "以下は、Pythonで最も基本的な関数の一つです。何も引数を取らず、単純に文字列を出力する関数です。     "
   ]
  },
  {
   "cell_type": "code",
   "execution_count": null,
   "id": "ef70fb77-8c0b-421a-b213-2abbacda22dd",
   "metadata": {},
   "outputs": [],
   "source": [
    "def greet():  \n",
    "    print(\"Hello, World!\")  \n",
    "   \n",
    "greet()  # 関数を呼び出す "
   ]
  },
  {
   "cell_type": "markdown",
   "id": "855d5ba4-56a4-4ce5-8886-37965c5e7062",
   "metadata": {},
   "source": [
    "### __引数を取る関数__     \n",
    "関数は引数を取ることができ、これを用いて関数にデータを渡すことができます。 "
   ]
  },
  {
   "cell_type": "code",
   "execution_count": null,
   "id": "5810260b-cb5b-4a6c-859f-6506b8cf3f26",
   "metadata": {},
   "outputs": [],
   "source": [
    "def greet(name):  \n",
    "    print(f\"Hello, {name}!\")  \n",
    "   \n",
    "greet(\"Alice\")  # \"Hello, Alice!\" を出力  \n",
    "greet(\"Bob\")    # \"Hello, Bob!\" を出力   "
   ]
  },
  {
   "cell_type": "code",
   "execution_count": null,
   "id": "70937e48-b17c-4620-b8bc-ef049a3e1e1e",
   "metadata": {},
   "outputs": [],
   "source": [
    "def function_name(parameters):  \n",
    "    result = parameters + 1\n",
    "    return result  \n",
    "  \n",
    "# 関数を呼び出す  \n",
    "function_name(1)  "
   ]
  },
  {
   "cell_type": "markdown",
   "id": "054d2557-51d8-4b78-95d4-39c98e36a9b2",
   "metadata": {},
   "source": [
    "## 練習６\n",
    "greet()関数を使ってあなたの名前を表示してみましょう。\n",
    "成功すると\"Hello, 名前\"と表示されます。"
   ]
  },
  {
   "cell_type": "code",
   "execution_count": null,
   "id": "ee9a2a28-80c6-4b87-9f04-f9a7b9092b88",
   "metadata": {},
   "outputs": [],
   "source": [
    "#レッツトライ\n"
   ]
  },
  {
   "cell_type": "markdown",
   "id": "bb2de304-df0a-4c6e-98a9-d9a9c1f34d90",
   "metadata": {},
   "source": [
    "### __関数のスコープ__  \n",
    "Pythonでは、関数内で宣言された変数はローカルスコープに属し、関数外からは直接アクセスすることができません。<br>一方で、関数外で宣言された変数はグローバルスコープに属し、プログラム内のどこからでもアクセスすることができます。  "
   ]
  },
  {
   "cell_type": "code",
   "execution_count": null,
   "id": "66773860-e24b-42a4-ac98-6528e184743d",
   "metadata": {},
   "outputs": [],
   "source": [
    "x = \"global\"  \n",
    "   \n",
    "def my_function():  \n",
    "    y = \"local\"  \n",
    "    print(\"Function inside:\", y)  \n",
    "   \n",
    "my_function()  # \"Function inside: local\" を出力  \n",
    "print(\"Function outside:\", x)  # \"Function outside: global\" を出力  "
   ]
  },
  {
   "cell_type": "markdown",
   "id": "324faeeb-1a0e-4450-9472-280361895d7e",
   "metadata": {},
   "source": [
    "### __グローバル変数とローカル変数__  \n",
    "関数内でグローバル変数を扱いたい場合は、`global` キーワードを使用してその変数を宣言する必要があります。  "
   ]
  },
  {
   "cell_type": "code",
   "execution_count": null,
   "id": "7b2275c8-dbd5-48ee-bbeb-4ea6a2ce1525",
   "metadata": {},
   "outputs": [],
   "source": [
    "x = \"global\"  \n",
    "   \n",
    "def my_function():  \n",
    "    global x  \n",
    "    x = \"modified\"  \n",
    "    print(\"Function inside:\", x)  \n",
    "   \n",
    "my_function()  # \"Function inside: modified\" を出力  \n",
    "print(\"Function outside:\", x)  # \"Function outside: modified\" を出力  "
   ]
  },
  {
   "cell_type": "markdown",
   "id": "508138fd-134f-421f-8683-2349bcce2f6f",
   "metadata": {},
   "source": [
    "# 1.6 制御構造\n",
    " コンピュータサイエンスにおける制御構造は、プログラムの流れを制御するための構造です。これにより、プログラムは入力や計算結果に基づいて異なるルートを取ることができます。<br>ythonにおけるおもな制御構造には条件分岐、繰り返し（ループ）、および関数の呼び出しがあります。\n",
    "\n",
    "\n",
    "### __条件分岐: if、elif、else__\n",
    "条件分岐は、特定の条件が真（True）であるかどうかに基づいて、どのコードブロックを実行するかを決定します。Pythonではif文を使ってこの機能を実現しています。\n",
    "\n",
    "  "
   ]
  },
  {
   "cell_type": "raw",
   "id": "fa0f25c3-d38e-4d83-8d14-75ae47b7bad7",
   "metadata": {},
   "source": [
    "if condition:  \n",
    "    # 条件がTrueの場合に実行されるブロック  \n",
    "elif another_condition:  \n",
    "    # 最初の条件がFalseで、次の条件がTrueの場合に実行されるブロック  \n",
    "else:  \n",
    "    # 全ての条件がFalseの場合に実行されるブロック"
   ]
  },
  {
   "cell_type": "code",
   "execution_count": null,
   "id": "06fd8558-79df-42c1-9ec7-d5b71c59edb1",
   "metadata": {},
   "outputs": [],
   "source": [
    "# if文の例  \n",
    "age = 20  \n",
    "if age >= 18:  \n",
    "    print(\"成人です\")  \n",
    "else:  \n",
    "    print(\"未成年です\")  "
   ]
  },
  {
   "cell_type": "markdown",
   "id": "5ffea939-97c8-438a-a78d-99058bf6f232",
   "metadata": {},
   "source": [
    "## 練習7\n",
    "ageにあなたの年齢を入れ、プログラムにあなたが成人かどうか判断してもらいましょう。"
   ]
  },
  {
   "cell_type": "code",
   "execution_count": null,
   "id": "5cae6af6-926b-4dfe-a46c-11a4fb5fc154",
   "metadata": {},
   "outputs": [],
   "source": [
    "# レッツトライ\n",
    "#age変数にあなたの年齢を入れてください。  \n",
    "age =　　\n",
    "if age >= 18:  \n",
    "    print(\"成人です\")  \n",
    "else:  \n",
    "    print(\"未成年です\")  "
   ]
  },
  {
   "cell_type": "markdown",
   "id": "120e5988-2041-4a8e-a66f-d1626d46ab2d",
   "metadata": {},
   "source": [
    "### __繰り返し（ループ）: for、while__\n",
    "繰り返しは、コードのブロックを複数回実行するための構造です。Pythonではforループとwhileループの2つの主要な方法があります。\n",
    "\n",
    "\n",
    "forループは、コレクション（リスト、タプルなど）やイテレータを通じて繰り返し処理を行います。"
   ]
  },
  {
   "cell_type": "raw",
   "id": "12bc53b1-548b-43de-b90f-33b07d7fe18e",
   "metadata": {},
   "source": [
    "for item in iterable:  \n",
    "    # 各要素に対して実行されるコード  "
   ]
  },
  {
   "cell_type": "markdown",
   "id": "77ae687d-f65c-4c40-a426-0dfa808850d7",
   "metadata": {},
   "source": [
    "whileループは、ある条件が真（True）である間、コードブロックを繰り返し実行します。"
   ]
  },
  {
   "cell_type": "raw",
   "id": "15cad9a6-d937-4864-9ce5-8c85527816b9",
   "metadata": {},
   "source": [
    "while condition:  \n",
    "    # 条件がTrueの間繰り返されるコード  "
   ]
  },
  {
   "cell_type": "code",
   "execution_count": null,
   "id": "fe7a1f9e-cf57-4c92-a3dd-b95d259bd735",
   "metadata": {},
   "outputs": [],
   "source": [
    "# for文の例  \n",
    "fruits = [\"apple\", \"banana\", \"cherry\"]  \n",
    "for fruit in fruits:  \n",
    "    print(fruit)  "
   ]
  },
  {
   "cell_type": "code",
   "execution_count": null,
   "id": "0a44c2c2-6c0e-4031-a74b-14f58b3129c4",
   "metadata": {},
   "outputs": [],
   "source": [
    "# while文の例  \n",
    "count = 0  \n",
    "while count < 5:  \n",
    "    print(count)  \n",
    "    count += 1  "
   ]
  },
  {
   "cell_type": "markdown",
   "id": "c8726ec2-127f-4af9-abd2-70e3e8392cce",
   "metadata": {},
   "source": [
    "## 練習８\n",
    "リストにあなたの苗字と名前をいれ、繰り返しを使って苗字と名前を表示してみましょう。"
   ]
  },
  {
   "cell_type": "code",
   "execution_count": null,
   "id": "75baa4bb-c769-4b7d-9ce3-71335576a697",
   "metadata": {},
   "outputs": [],
   "source": [
    "# レッツトライ\n",
    "name_list = [\"苗字\", \"名前\"]\n",
    "\n"
   ]
  },
  {
   "cell_type": "markdown",
   "id": "5324e79e-fea3-4613-8e23-fc0888158070",
   "metadata": {},
   "source": [
    "# 1.7 プログラムを使ってできること\n",
    "この章では、今まで習ったことを使い、プログラムを実際に使ってできることを紹介します。\n",
    "\n",
    "### ①おみくじプログラム\n",
    "まず初めに、おみくじのプログラムを紹介します。実行すると大吉から凶までの中からランダムに結果が表示されます。"
   ]
  },
  {
   "cell_type": "code",
   "execution_count": null,
   "id": "2654278b-9418-4fc2-afb3-1eb580738439",
   "metadata": {},
   "outputs": [],
   "source": [
    "import random\n",
    "\n",
    "def omikuji():\n",
    "    results = [\"大吉\", \"中吉\", \"小吉\", \"吉\", \"末吉\", \"凶\"]\n",
    "    choice = random.choice(results)\n",
    "    return choice\n",
    "\n",
    "# 実行例\n",
    "print(\"おみくじを引きます！\")\n",
    "print(\"結果は・・・\", omikuji())"
   ]
  },
  {
   "cell_type": "markdown",
   "id": "6c622f7e-9793-42fe-a930-766a5217ee62",
   "metadata": {},
   "source": [
    "### __②化学への応用__\n",
    "近年、情報科学の発展に伴い、科学者もシミュレーション技術を活用しています。\n",
    "最初の例で示したように、pythonを使うことで簡単な構造式の化合物を表示可能です。\n",
    "<br>本講義の最後に、焼きいもの甘さの元となるマルトース、および酵素（アミラーゼ）の構造を可視化してみましょう！"
   ]
  },
  {
   "cell_type": "code",
   "execution_count": null,
   "id": "3985a811-2391-4fe5-a1cd-320351dcbcce",
   "metadata": {},
   "outputs": [],
   "source": [
    "from rdkit import Chem\n",
    "from rdkit.Chem import Draw\n",
    "from rdkit.Chem import AllChem\n",
    "import py3Dmol"
   ]
  },
  {
   "cell_type": "code",
   "execution_count": null,
   "id": "43950349-4f4a-41ed-ac24-7300ace7cc8a",
   "metadata": {},
   "outputs": [],
   "source": [
    "# マルトースの SMILES\n",
    "smiles = \"C(C1C(C(C(C(O1)O)O)O)O)OCC2C(C(C(C(O2)CO)O)O)O\"\n",
    "\n",
    "# 分子オブジェクトを作成\n",
    "mol = Chem.MolFromSmiles(smiles)\n",
    "\n",
    "# 分子を描画\n",
    "Draw.MolToImage(mol)"
   ]
  },
  {
   "cell_type": "code",
   "execution_count": null,
   "id": "639080d6-65cb-4a94-ad69-797bb2b2b5be",
   "metadata": {},
   "outputs": [],
   "source": [
    "# SMILESから分子を生成（水素を付加）\n",
    "mol = Chem.AddHs(Chem.MolFromSmiles(smiles))\n",
    "\n",
    "# 3D構造を生成して最適化\n",
    "AllChem.EmbedMolecule(mol)\n",
    "AllChem.UFFOptimizeMolecule(mol)\n",
    "\n",
    "# py3Dmolで3D表示\n",
    "view_mol = py3Dmol.view(width=600, height=600)\n",
    "view_mol.addModel(Chem.MolToMolBlock(mol), 'mol')  # MolBlock形式で追加\n",
    "view_mol.setStyle({'stick': {}})  # スティック表示\n",
    "view_mol.zoomTo()\n",
    "view_mol.show()"
   ]
  },
  {
   "cell_type": "code",
   "execution_count": null,
   "id": "222a2963-52fe-49df-942a-3715fb43295b",
   "metadata": {},
   "outputs": [],
   "source": [
    "# PDBファイル読み込み\n",
    "pdb = open(\"5wqs.pdb\").read()  \n",
    "\n",
    "# 左寄せしてNotebookに表示\n",
    "view_enz = py3Dmol.view(width=600, height=600)\n",
    "view_enz.addModel(pdb,'pdb')\n",
    "view_enz.setStyle({'cartoon':{'color':'spectrum'}})\n",
    "view_enz.zoomTo()\n",
    "view_enz.show()"
   ]
  },
  {
   "cell_type": "code",
   "execution_count": null,
   "id": "a42a0806-7898-483d-9339-65f88bc0f4e1",
   "metadata": {},
   "outputs": [],
   "source": []
  }
 ],
 "metadata": {
  "kernelspec": {
   "display_name": "Python 3 (ipykernel)",
   "language": "python",
   "name": "python3"
  },
  "language_info": {
   "codemirror_mode": {
    "name": "ipython",
    "version": 3
   },
   "file_extension": ".py",
   "mimetype": "text/x-python",
   "name": "python",
   "nbconvert_exporter": "python",
   "pygments_lexer": "ipython3",
   "version": "3.11.7"
  }
 },
 "nbformat": 4,
 "nbformat_minor": 5
}
